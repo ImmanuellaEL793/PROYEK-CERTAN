{
  "nbformat": 4,
  "nbformat_minor": 0,
  "metadata": {
    "colab": {
      "provenance": [],
      "include_colab_link": true
    },
    "kernelspec": {
      "name": "python3",
      "display_name": "Python 3"
    },
    "language_info": {
      "name": "python"
    }
  },
  "cells": [
    {
      "cell_type": "markdown",
      "metadata": {
        "id": "view-in-github",
        "colab_type": "text"
      },
      "source": [
        "<a href=\"https://colab.research.google.com/github/ImmanuellaEL793/PROYEK-CERTAN/blob/SVM/MALWARE.ipynb\" target=\"_parent\"><img src=\"https://colab.research.google.com/assets/colab-badge.svg\" alt=\"Open In Colab\"/></a>"
      ]
    },
    {
      "cell_type": "markdown",
      "source": [
        "### Penerapan SVM dalam pengclasifikasian Malware ###\n",
        "\n",
        "Kelompok 1\n",
        "NIM / NAMA:\n",
        "-\n",
        "-\n",
        "-\n",
        "-\n",
        "-"
      ],
      "metadata": {
        "id": "9XOZ6gCNznk1"
      }
    },
    {
      "cell_type": "code",
      "source": [],
      "metadata": {
        "id": "auS33Dzpzso2"
      },
      "execution_count": null,
      "outputs": []
    }
  ]
}